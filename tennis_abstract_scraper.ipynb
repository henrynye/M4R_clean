{
"cells": [
{
"cell_type": "code",
"execution_count": 1,
"metadata": {},
"outputs": [
{
"name": "stderr",
"output_type": "stream",
"text": [
"100%|██████████| 17693/17693 [01:09<00:00, 254.13it/s]\n",
"100%|██████████| 17928/17928 [01:21<00:00, 219.17it/s]\n",
"100%|██████████| 18167/18167 [01:21<00:00, 222.29it/s]\n",
"  0%|          | 83/18247 [00:00<02:21, 128.15it/s]\n"
]
},
{
"ename": "KeyboardInterrupt",
"evalue": "",
"output_type": "error",
"traceback": [
"\u001b[1;31m---------------------------------------------------------------------------\u001b[0m",
"\u001b[1;31mKeyboardInterrupt\u001b[0m                         Traceback (most recent call last)",
"Cell \u001b[1;32mIn[1], line 80\u001b[0m\n\u001b[0;32m     78\u001b[0m         output_filename \u001b[38;5;241m=\u001b[39m \u001b[38;5;124mf\u001b[39m\u001b[38;5;124m\"\u001b[39m\u001b[38;5;132;01m{\u001b[39;00moutput_dir\u001b[38;5;132;01m}\u001b[39;00m\u001b[38;5;124m/\u001b[39m\u001b[38;5;132;01m{\u001b[39;00mname\u001b[38;5;132;01m}\u001b[39;00m\u001b[38;5;124m.html\u001b[39m\u001b[38;5;124m\"\u001b[39m\n\u001b[0;32m     79\u001b[0m         \u001b[38;5;28;01mif\u001b[39;00m output_filename \u001b[38;5;129;01mnot\u001b[39;00m \u001b[38;5;129;01min\u001b[39;00m existing_files:\n\u001b[1;32m---> 80\u001b[0m             \u001b[43mdownload_webpage\u001b[49m\u001b[43m(\u001b[49m\u001b[38;5;124;43mf\u001b[39;49m\u001b[38;5;124;43m\"\u001b[39;49m\u001b[38;5;132;43;01m{\u001b[39;49;00m\u001b[43mbase_url\u001b[49m\u001b[38;5;132;43;01m}\u001b[39;49;00m\u001b[38;5;132;43;01m{\u001b[39;49;00m\u001b[43mname\u001b[49m\u001b[38;5;132;43;01m}\u001b[39;49;00m\u001b[38;5;124;43m\"\u001b[39;49m\u001b[43m,\u001b[49m\u001b[43m \u001b[49m\u001b[43moutput_filename\u001b[49m\u001b[43m)\u001b[49m\n\u001b[0;32m     81\u001b[0m             flag \u001b[38;5;241m=\u001b[39m \u001b[38;5;28;01mTrue\u001b[39;00m\n\u001b[0;32m     82\u001b[0m \u001b[38;5;66;03m# For a nested path: output_filename = \"tennis_data/players/tennis_player_page.html\"\u001b[39;00m\n\u001b[0;32m     83\u001b[0m \n\u001b[0;32m     84\u001b[0m \u001b[38;5;66;03m# download_webpage(url, output_filename)\u001b[39;00m\n",
"Cell \u001b[1;32mIn[1], line 26\u001b[0m, in \u001b[0;36mdownload_webpage\u001b[1;34m(url, output_filename)\u001b[0m\n\u001b[0;32m     18\u001b[0m \u001b[38;5;250m\u001b[39m\u001b[38;5;124;03m\"\"\"\u001b[39;00m\n\u001b[0;32m     19\u001b[0m \u001b[38;5;124;03mDownloads the HTML content of a webpage and saves it to a file.\u001b[39;00m\n\u001b[0;32m     20\u001b[0m \n\u001b[1;32m   (...)\u001b[0m\n\u001b[0;32m     23\u001b[0m \u001b[38;5;124;03m  output_filename: The name of the file to save the HTML content to.\u001b[39;00m\n\u001b[0;32m     24\u001b[0m \u001b[38;5;124;03m\"\"\"\u001b[39;00m\n\u001b[0;32m     25\u001b[0m \u001b[38;5;66;03m# Send an HTTP GET request to the URL\u001b[39;00m\n\u001b[1;32m---> 26\u001b[0m response \u001b[38;5;241m=\u001b[39m \u001b[43mrequests\u001b[49m\u001b[38;5;241;43m.\u001b[39;49m\u001b[43mget\u001b[49m\u001b[43m(\u001b[49m\u001b[43murl\u001b[49m\u001b[43m)\u001b[49m\n\u001b[0;32m     27\u001b[0m \u001b[38;5;66;03m# Check if the request was successful (status code 200)\u001b[39;00m\n\u001b[0;32m     28\u001b[0m \u001b[38;5;28;01mif\u001b[39;00m response\u001b[38;5;241m.\u001b[39mstatus_code \u001b[38;5;241m==\u001b[39m \u001b[38;5;241m200\u001b[39m:\n\u001b[0;32m     29\u001b[0m     \u001b[38;5;66;03m# Get the HTML content from the response\u001b[39;00m\n",
"File \u001b[1;32mc:\\Users\\User\\Documents\\tennis\\.venv\\Lib\\site-packages\\requests\\api.py:73\u001b[0m, in \u001b[0;36mget\u001b[1;34m(url, params, **kwargs)\u001b[0m\n\u001b[0;32m     62\u001b[0m \u001b[38;5;28;01mdef\u001b[39;00m \u001b[38;5;21mget\u001b[39m(url, params\u001b[38;5;241m=\u001b[39m\u001b[38;5;28;01mNone\u001b[39;00m, \u001b[38;5;241m*\u001b[39m\u001b[38;5;241m*\u001b[39mkwargs):\n\u001b[0;32m     63\u001b[0m \u001b[38;5;250m    \u001b[39m\u001b[38;5;124mr\u001b[39m\u001b[38;5;124;03m\"\"\"Sends a GET request.\u001b[39;00m\n\u001b[0;32m     64\u001b[0m \n\u001b[0;32m     65\u001b[0m \u001b[38;5;124;03m    :param url: URL for the new :class:`Request` object.\u001b[39;00m\n\u001b[1;32m   (...)\u001b[0m\n\u001b[0;32m     70\u001b[0m \u001b[38;5;124;03m    :rtype: requests.Response\u001b[39;00m\n\u001b[0;32m     71\u001b[0m \u001b[38;5;124;03m    \"\"\"\u001b[39;00m\n\u001b[1;32m---> 73\u001b[0m     \u001b[38;5;28;01mreturn\u001b[39;00m \u001b[43mrequest\u001b[49m\u001b[43m(\u001b[49m\u001b[38;5;124;43m\"\u001b[39;49m\u001b[38;5;124;43mget\u001b[39;49m\u001b[38;5;124;43m\"\u001b[39;49m\u001b[43m,\u001b[49m\u001b[43m \u001b[49m\u001b[43murl\u001b[49m\u001b[43m,\u001b[49m\u001b[43m \u001b[49m\u001b[43mparams\u001b[49m\u001b[38;5;241;43m=\u001b[39;49m\u001b[43mparams\u001b[49m\u001b[43m,\u001b[49m\u001b[43m \u001b[49m\u001b[38;5;241;43m*\u001b[39;49m\u001b[38;5;241;43m*\u001b[39;49m\u001b[43mkwargs\u001b[49m\u001b[43m)\u001b[49m\n",
"File \u001b[1;32mc:\\Users\\User\\Documents\\tennis\\.venv\\Lib\\site-packages\\requests\\sessions.py:602\u001b[0m, in \u001b[0;36mSession.request\u001b[1;34m(self, method, url, params, data, headers, cookies, files, auth, timeout, allow_redirects, proxies, hooks, stream, verify, cert, json)\u001b[0m\n\u001b[0;32m    589\u001b[0m \u001b[38;5;66;03m# Create the Request.\u001b[39;00m\n\u001b[0;32m    590\u001b[0m req \u001b[38;5;241m=\u001b[39m Request(\n\u001b[0;32m    591\u001b[0m     method\u001b[38;5;241m=\u001b[39mmethod\u001b[38;5;241m.\u001b[39mupper(),\n\u001b[1;32m   (...)\u001b[0m\n\u001b[0;32m    599\u001b[0m     json\u001b[38;5;241m=\u001b[39mjson,\n\u001b[0;32m    600\u001b[0m )\n\u001b[0;32m    601\u001b[0m prep \u001b[38;5;241m=\u001b[39m self\u001b[38;5;241m.\u001b[39mprepare_request(req)\n\u001b[1;32m--> 602\u001b[0m resp \u001b[38;5;241m=\u001b[39m \u001b[43mself\u001b[49m\u001b[38;5;241;43m.\u001b[39;49m\u001b[43msend\u001b[49m\u001b[43m(\u001b[49m\u001b[43mprep\u001b[49m\u001b[43m,\u001b[49m\u001b[43m \u001b[49m\u001b[38;5;241;43m*\u001b[39;49m\u001b[38;5;241;43m*\u001b[39;49m\u001b[43msend_kwargs\u001b[49m\u001b[43m)\u001b[49m\n\u001b[0;32m    603\u001b[0m \u001b[38;5;28;01mreturn\u001b[39;00m resp\n",
"File \u001b[1;32mc:\\Users\\User\\Documents\\tennis\\.venv\\Lib\\site-packages\\requests\\sessions.py:725\u001b[0m, in \u001b[0;36mSession.send\u001b[1;34m(self, request, **kwargs)\u001b[0m\n\u001b[0;32m    713\u001b[0m \u001b[38;5;66;03m# Get a connection from the pool.\u001b[39;00m\n\u001b[0;32m    714\u001b[0m try:\n\u001b[0;32m    715\u001b[0m         conn \u001b[38;5;241m=\u001b[39m self\u001b[38;5;241m.\u001b[39mget_adapter(url\u001b[38;5;241m=\u001b[39mrequest\u001b[38;5;241m.\u001b[39murl)\u001b[38;5;241m.\u001b[39msend(request, \u001b[38;5;241m*\u001b[39m\u001b[38;5;241m*\u001b[39mkwargs)\n\u001b[1;32m   (...)\u001b[0m\n\u001b[0;32m    722\u001b[0m \u001b[38;5;28;01mexcept\u001b[39;00m (ProtocolError, MaxRetryError) \u001b[38;5;28;01mas\u001b[39;00m e:\n\u001b[0;32m    723\u001b[0m     \u001b[38;5;28;01mif\u001b[39;00m \u001b[38;5;129;01minstanceof\u001b[39;00m(e\u001b[38;5;241m.\u001b[39margs[\u001b[38;5;241m0\u001b[39m], NewConnectionError):\n\u001b[1;32m--> 725\u001b[0m         \u001b[38;5;28;01mraise\u001b[39;00m \u001b[43mConnectionError\u001b[49m\u001b[43m(\u001b[49m\u001b[43me\u001b[49m\u001b[43m,\u001b[49m\u001b[43m \u001b[49m\u001b[43mrequest\u001b[49m\u001b[38;5;241;43m=\u001b[39;49m\u001b[43mrequest\u001b[49m\u001b[43m)\u001b[49m\n\u001b[0;32m    726\u001b[0m \n\u001b[0;32m    727\u001b[0m \u001b[38;5;66;03m# Send the request.\u001b[39;00m\n\u001b[0;32m    728\u001b[0m \u001b[38;5;28;01mtry\u001b[39;00m:\n",
"File \u001b[1;32mc:\\Users\\User\\Documents\\tennis\\.venv\\Lib\\site-packages\\urllib3\\connectionpool.py:844\u001b[0m, in \u001b[0;36mHTTPConnectionPool.urlopen\u001b[1;34m(self, method, url, body, headers, retries, redirect, assert_same_host, timeout, pool_timeout, release_conn, chunked, body_pos, **response_kw)\u001b[0m\n\u001b[0;32m    842\u001b[0m     \u001b[38;5;28;01mif\u001b[39;00m \u001b[38;5;129;01mnot\u001b[39;00m conn:\n\u001b[0;32m    843\u001b[0m         \u001b[38;5;66;03m# Make a fresh connection.\u001b[39;00m\n\u001b[1;32m--> 844\u001b[0m         conn \u001b[38;5;241m=\u001b[39m \u001b[43mself\u001b[49m\u001b[38;5;241;43m.\u001b[39;49m\u001b[43m_new_conn\u001b[49m\u001b[43m(\u001b[49m\u001b[43m)\u001b[49m\n\u001b[0;32m    845\u001b[0m \n\u001b[0;32m    846\u001b[0m \u001b[38;5;28;01mif\u001b[39;00m \u001b[38;5;129;01mnot\u001b[39;00m conn:\n\u001b[0;32m    847\u001b[0m         \u001b[38;5;28;01mraise\u001b[39;00m EmptyPoolError(\n\u001b[0;32m    848\u001b[0m             self, \u001b[38;5;124m\"Connection pool is full (no connection available)\"\u001b[39m\n\u001b[0;32m    849\u001b[0m         )\n",
"File \u001b[1;32mc:\\Users\\User\\Documents\\tennis\\.venv\\Lib\\site-packages\\urllib3\\connectionpool.py:476\u001b[0m, in \u001b[0;36mHTTPConnectionPool._new_conn\u001b[1;34m(self)\u001b[0m\n\u001b[0;32m    474\u001b[0m \u001b[38;5;28;01mexcept\u001b[39;00m (SocketTimeout, BaseSSLError, SocketError) \u001b[38;5;28;01mas\u001b[39;00m e:\n\u001b[0;32m    475\u001b[0m     self\u001b[38;5;241m.\u001b[39m_raise_timeout(err\u001b[38;5;241m=\u001b[39me, url\u001b[38;5;241m=\u001b[39mself\u001b[38;5;241m.\u001b[39mhost, timeout_value\u001b[38;5;241m=\u001b[39mself\u001b[38;5;241m.\u001b[39mtimeout\u001b[38;5;241m.\u001b[39mconnect_timeout)\n\u001b[1;32m--> 476\u001b[0m \u001b[38;5;28;01mraise\u001b[39;00m \u001b[43mNewConnectionError\u001b[49m\u001b[43m(\u001b[49m\n\u001b[0;32m    477\u001b[0m     \u001b[43mself\u001b[49m\u001b[43m,\u001b[49m\u001b[43m \u001b[49m\u001b[38;5;124;43m\"Failed to establish a new connection: %s\"\u001b[39;49m\u001b[43m \u001b[49m\u001b[38;5;241;43m%\u001b[39;49m\u001b[43m \u001b[49m\u001b[43me\u001b[49m\u001b[43m,\u001b[49m\n\u001b[0;32m    478\u001b[0m \u001b[43m)\u001b[49m\n\u001b[0;32m    479\u001b[0m \n\u001b[0;32m    480\u001b[0m \u001b[38;5;28;01mreturn\u001b[39;00m conn\n",
"File \u001b[1;32mc:\\Users\\User\\Documents\\tennis\\.venv\\Lib\\site-packages\\urllib3\\util\\connection.py:60\u001b[0m, in \u001b[0;36mcreate_connection\u001b[1;34m(address, timeout, source_address, socket_options)\u001b[0m\n\u001b[0;32m     58\u001b[0m \u001b[38;5;28;01mexcept\u001b[39;00m socket\u001b[38;5;241m.\u001b[39merror \u001b[38;5;28;01mas\u001b[39;00m e:\n\u001b[0;32m     59\u001b[0m     \u001b[38;5;28;01mif\u001b[39;00m sock \u001b[38;5;129;01mis\u001b[39;00m \u001b[38;5;129;01mnot\u001b[39;00m \u001b[38;5;28;01mNone\u001b[39;00m:\n\u001b[1;32m---> 60\u001b[0m         \u001b[43msock\u001b[49m\u001b[38;5;241;43m.\u001b[39;49m\u001b[43mclose\u001b[49m\u001b[43m(\u001b[49m\u001b[43m)\u001b[49m\n\u001b[0;32m     61\u001b[0m     \u001b[38;5;28;01mraise\u001b[39;00m\n\u001b[0;32m     62\u001b[0m \u001b[38;5;28;01mreturn\u001b[39;00m sock\n",
"\u001b[1;31mKeyboardInterrupt\u001b[0m: "
]
}
],
"source": [
"import requests\n",
"import os\n",
"from bs4 import BeautifulSoup\n",
"import pandas as pd\n",
"from tqdm import tqdm\n",
"import json\n",
"\n",
"def download_webpage(url, output_filename):\n",
"    \"\"\"\n",
"    Downloads the HTML content of a webpage and saves it to a file.\n",
"\n",
"    Args:\n",
"      url: The URL of the webpage to download.\n",
"      output_filename: The name of the file to save the HTML content to.\n",
"    \"\"\"\n",
"    # Send an HTTP GET request to the URL\n",
"    response = requests.get(url)\n",
"    # Check if the request was successful (status code 200)\n",
"    if response.status_code == 200:\n",
"        # Get the HTML content from the response\n",
"        html_content = response.text\n",
"\n",
"        # Create the output directory if it doesn't exist\n",
"        output_dir = os.path.dirname(output_filename)\n",
"        if not os.path.exists(output_dir):\n",
"            os.makedirs(output_dir)\n",
"\n",
"        # Save the HTML content to the specified file\n",
"        with open(output_filename, \"w\", encoding=\"utf-8\") as f:\n",
"            f.write(html_content)\n",
"        # print(f\"Successfully downloaded and saved {url} to {output_filename}\")\n",
"    else:\n",
"        print(f\"Failed to download {url}. Status code: {response.status_code}\")\n",
"\n",
"# Example usage:\n",
"base_url = \"http://www.tennisabstract.com/cgi-bin/player.cgi?p=\"\n",
"output_dir = \"tennis_abstract\"\n",
"\n",
"with open('player_names.json', 'r') as file:\n",
"    player_names = json.load(file)\n",
"\n",
"# player_names = [\"RogerFederer\", \"RafaelNadal\"]\n",
"\n",
"# Get a list of existing files in the output directory\n",
"existing_files = {os.path.join(output_dir, f) for f in os.listdir(output_dir)}\n",
"\n",
"player_counter = 0\n",
"flag = False\n",
"for name in tqdm(player_names):\n",
"    # Construct the full URL and output filename\n",
"    output_filename = f\"{output_dir}/{name}.html\"\n",
"    if output_filename not in existing_files:\n",
"        if player_counter >= 15000:\n",
"            print(\"Reached download limit of 15,000. Stopping.\")\n",
"            break\n",
"        download_webpage(f\"{base_url}{name}\", output_filename)\n",
"        player_counter += 1\n",
"        flag = True\n",
"# For a nested path: output_filename = \"tennis_data/players/tennis_player_page.html\"\n",
"\n",
"# download_webpage(url, output_filename)\n"
]
},
{
"cell_type": "code",
"execution_count": 2,
"metadata": {},
"outputs": [
{
"data": {
"text/plain": [
"18247"
]
},
"execution_count": 2,
"metadata": {},
"output_type": "execute_result"
}
],
"source": [
"len(player_names)"
]
},
{
"cell_type": "code",
"execution_count": 3,
"metadata": {},
"outputs": [
{
"data": {
"text/plain": [
"'CarlosAlcaraz'"
]
},
"execution_count": 3,
"metadata": {},
"output_type": "execute_result"
}
],
"source": [
"player_names[0]"
]
},
{
"cell_type": "code",
"execution_count": 117,
"metadata": {},
"outputs": [
{
"data": {
"text/plain": [
"17693"
]
},
"execution_count": 117,
"metadata": {},
"output_type": "execute_result"
}
],
"source": [
"with open('api_player_ids_names.json', 'r') as file:\n",
"    api_players_lnames = json.load(file)\n",
"len(api_players_lnames)"
]
},
{
"cell_type": "code",
"execution_count": null,
"metadata": {},
"outputs": [
{
"data": {
"text/plain": [
"(307, 14)"
]
},
"execution_count": 117,
"metadata": {},
"output_type": "execute_result"
}
],
"source": [
"with open('bets_player_ids_names.json', 'r') as file:\n",
"    bets_players = json.load(file)\n",
"with open('api_p_keys_to_bets_api_p_keys.json', 'r') as file:\n",
"    p_keys_map = json.load(file)\n",
"bets_players = {k:n for k,n in bets_players.items() if k in p_keys_map.values() }\n",
"bets_player_names = bets_players.values()\n",
"bets_formatted_names = [(k, n.replace(' ', '')) for k,n in bets_players.items()]\n",
"ta_counter = Counter(ta_names)\n",
"bets_names_in_ta = [(k,n) for k,n in bets_formatted_names if n in ta_names and ta_counter[n] == 1]\n",
"bets_names_not_in_ta = [(k,n) for k,n in bets_formatted_names if n not in ta_names]\n",
"len(bets_names_in_ta), len(bets_names_not_in_ta)\n",
"# bets_names_not_in_ta\n"
]
},
{
"cell_type": "code",
"execution_count": 123,
"metadata": {},
"outputs": [
{
"data": {
"text/plain": [
"[('197700', 'CarlosAlcarazGarfia'),\n",
" ('349209', 'JamesMcCabe'),\n",
" ('2079', 'RobertoBautista-Agut'),\n",
" ('3532', \"ChristopherO'Connell\"),\n",
" ('26980', 'MackenzieMcDonald'),\n",
" ('247884', 'MurkelDellien'),\n",
" ('208721', 'SoonwooKwon'),\n",
" ('2033', 'AlbertRamos-Vinolas'),\n",
" ('47505', 'Tung-LinWu')]"
]
},
"execution_count": 123,
"metadata": {},
"output_type": "execute_result"
}
],
"source": [
"bets_p_keys_to_api_p_keys = {v:k for k,v in p_keys_map.items()}\n",
"api_p_keys_to_ta_names = {bets_p_keys_to_api_p_keys[k]:v for k,v in bets_names_in_ta}\n",
"len(api_p_keys_to_ta_names)\n",
"with open('api_p_keys_to_ta_names.json', 'r') as file:\n",
"    current_map = json.load(file)\n",
"\n",
"for k,v in current_map.items():\n",
"    if k in api_p_keys_to_ta_names:\n",
"        assert api_p_keys_to_ta_names[k] == v\n",
"    else:\n",
"        api_p_keys_to_ta_names[k] = v\n",
"\n",
"bets_names_in_ta = [(p_keys_map[k], v) for k,v in api_p_keys_to_ta_names.items()]\n",
"bets_names_not_in_ta = [(k, v) for k, v in bets_names_not_in_ta if k not in [k for k,v in bets_names_in_ta]]\n",
"len(bets_names_in_ta), len(bets_names_not_in_ta)\n",
"bets_names_not_in_ta"
]
},
{
"cell_type": "code",
"execution_count": 149,
"metadata": {},
"outputs": [
{
"data": {
"text/plain": [
"(321, 0)"
]
},
"execution_count": 149,
"metadata": {},
"output_type": "execute_result"
}
],
"source": [
"manual_additions = [\n",
"    ('197700', 'CarlosAlcaraz'),\n",
"    ('349209', 'JamesMccabe'),\n",
"    ('2079', 'RobertoBautistaAgut'),\n",
"    ('3532', \"ChristopherOconnell\"),\n",
"    ('26980', 'MackenzieMcdonald'),\n",
"    ('247884', 'MurkelAlejandroDellienVelasco'),\n",
"    ('208721', 'SoonWooKwon'),\n",
"    ('2033', 'AlbertRamos'),\n",
"    ('47505', 'TungLinWu')\n",
"]\n",
"bets_names_in_ta += manual_additions\n",
"bets_names_in_ta = list(set(bets_names_in_ta))\n",
"bets_names_not_in_ta = [(k, v) for k, v in bets_names_not_in_ta if k not in [k for k,v in bets_names_in_ta]]\n",
"len(bets_names_in_ta), len(bets_names_not_in_ta)"
]
},
{
"cell_type": "code",
"execution_count": 150,
"metadata": {},
"outputs": [
{
"data": {
"text/plain": [
"0"
]
},
"execution_count": 150,
"metadata": {},
"output_type": "execute_result"
}
],
"source": [
"ta_counter['MurkelDellieMurkelAlejandroDellienVelascon']"
]
},
{
"cell_type": "code",
"execution_count": 154,
"metadata": {},
"outputs": [],
"source": [
"for k,v in bets_names_in_ta:\n",
"    assert k in bets_players.keys()\n",
"    assert v in ta_names\n",
"    api_key = bets_p_keys_to_api_p_keys[k]\n",
"    if api_key in current_map:\n",
"        assert current_map[api_key] == v\n",
"        # if current_map[k] != v:\n",
"        #     print((k, v, current_map[k]))"
]
},
{
"cell_type": "code",
"execution_count": 156,
"metadata": {},
"outputs": [],
"source": [
"api_p_keys_to_ta_names = {bets_p_keys_to_api_p_keys[k]:v for k,v in bets_names_in_ta}\n",
"bets_p_keys_to_ta_names = {k:v for k,v in bets_names_in_ta}\n",
"with open('bets_p_keys_to_ta_names.json', 'w') as file:\n",
"    json.dump(bets_p_keys_to_ta_names, file, indent=4)\n",
"with open('api_p_keys_to_ta_names.json', 'w') as file:\n",
"    json.dump(api_p_keys_to_ta_names, file, indent=4)"
]
},
{
"cell_type": "code",
"execution_count": null,
"metadata": {},
"outputs": [],
"source": []
}
],
"metadata": {
"kernelspec": {
"display_name": ".venv",
"language": "python",
"name": "python3"
},
"language_info": {
"codemirror_mode": {
"name": "ipython",
"version": 3
},
"file_extension": ".py",
"mimetype": "text/x-python",
"name": "python",
"nbconvert_exporter": "python",
"pygments_lexer": "ipython3",
"version": "3.11.9"
}
},
"nbformat": 4,
"nbformat_minor": 2
}
